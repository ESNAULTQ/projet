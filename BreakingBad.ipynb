{
 "cells": [
  {
   "cell_type": "code",
   "execution_count": null,
   "id": "79eefe99",
   "metadata": {},
   "outputs": [
    {
     "name": "stdout",
     "output_type": "stream",
     "text": [
      "Appuyez sur Entrée pour obtenir une citation de Breaking Bad...\n",
      "Keys, scumbag. It's the universal symbol for keys.\n",
      "Appuyez sur Entrée pour obtenir une citation de Breaking Bad...\n",
      "If you believe that there’s a hell, we’re pretty much already going there.\n",
      "Appuyez sur Entrée pour obtenir une citation de Breaking Bad...\n",
      "Hey, tell your douchebag brother-in-law to head towards the light.\n",
      "Appuyez sur Entrée pour obtenir une citation de Breaking Bad...\n",
      "It’s like Scarface had sex with Mr. Rogers or something.\n",
      "Appuyez sur Entrée pour obtenir une citation de Breaking Bad...\n",
      "I will put you under the jail.\n",
      "Appuyez sur Entrée pour obtenir une citation de Breaking Bad...\n",
      "I do not believe fear to be an effective motivator. I want investment. For now, I'm simply interested in time frame.\n"
     ]
    }
   ],
   "source": [
    "import requests\n",
    "\n",
    "def get_single_breaking_bad_quote():\n",
    "    url = 'https://api.breakingbadquotes.xyz/v1/quotes'\n",
    "    response = requests.get(url)\n",
    "\n",
    "    if response.status_code == 200:\n",
    "        data = response.json()\n",
    "        return data[0]['quote']  # Retourner uniquement la citation\n",
    "    else:\n",
    "        print(\"Erreur lors de la récupération des données depuis l'API :\", response.status_code)\n",
    "        return None\n",
    "\n",
    "\n",
    "\n",
    "#Boucle while pour permettre à l'utilisateur de relancer la fonction\n",
    "quote=\"\"\n",
    "while quote == \"\":\n",
    "    quote = input(\"Appuyez sur Entrée pour obtenir une citation de Breaking Bad...\")\n",
    "    print(get_single_breaking_bad_quote())"
   ]
  },
  {
   "cell_type": "code",
   "execution_count": null,
   "id": "a0594fd4",
   "metadata": {},
   "outputs": [],
   "source": []
  }
 ],
 "metadata": {
  "kernelspec": {
   "display_name": "Python 3 (ipykernel)",
   "language": "python",
   "name": "python3"
  },
  "language_info": {
   "codemirror_mode": {
    "name": "ipython",
    "version": 3
   },
   "file_extension": ".py",
   "mimetype": "text/x-python",
   "name": "python",
   "nbconvert_exporter": "python",
   "pygments_lexer": "ipython3",
   "version": "3.10.6"
  },
  "toc": {
   "base_numbering": 1,
   "nav_menu": {},
   "number_sections": true,
   "sideBar": true,
   "skip_h1_title": false,
   "title_cell": "Table of Contents",
   "title_sidebar": "Contents",
   "toc_cell": false,
   "toc_position": {},
   "toc_section_display": true,
   "toc_window_display": false
  }
 },
 "nbformat": 4,
 "nbformat_minor": 5
}
